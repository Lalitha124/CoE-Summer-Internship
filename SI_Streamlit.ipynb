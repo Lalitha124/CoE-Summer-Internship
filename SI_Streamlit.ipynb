{
  "nbformat": 4,
  "nbformat_minor": 0,
  "metadata": {
    "colab": {
      "provenance": []
    },
    "kernelspec": {
      "name": "python3",
      "display_name": "Python 3"
    },
    "language_info": {
      "name": "python"
    }
  },
  "cells": [
    {
      "cell_type": "code",
      "execution_count": 1,
      "metadata": {
        "colab": {
          "base_uri": "https://localhost:8080/"
        },
        "id": "re3Qm5nUDtcH",
        "outputId": "7b6068ce-1bc6-422c-c945-f81e39c973fe",
        "collapsed": true
      },
      "outputs": [
        {
          "output_type": "stream",
          "name": "stdout",
          "text": [
            "Collecting streamlit\n",
            "  Downloading streamlit-1.39.0-py2.py3-none-any.whl.metadata (8.5 kB)\n",
            "Requirement already satisfied: altair<6,>=4.0 in /usr/local/lib/python3.10/dist-packages (from streamlit) (4.2.2)\n",
            "Requirement already satisfied: blinker<2,>=1.0.0 in /usr/lib/python3/dist-packages (from streamlit) (1.4)\n",
            "Requirement already satisfied: cachetools<6,>=4.0 in /usr/local/lib/python3.10/dist-packages (from streamlit) (5.5.0)\n",
            "Requirement already satisfied: click<9,>=7.0 in /usr/local/lib/python3.10/dist-packages (from streamlit) (8.1.7)\n",
            "Requirement already satisfied: numpy<3,>=1.20 in /usr/local/lib/python3.10/dist-packages (from streamlit) (1.26.4)\n",
            "Requirement already satisfied: packaging<25,>=20 in /usr/local/lib/python3.10/dist-packages (from streamlit) (24.1)\n",
            "Requirement already satisfied: pandas<3,>=1.4.0 in /usr/local/lib/python3.10/dist-packages (from streamlit) (2.2.2)\n",
            "Requirement already satisfied: pillow<11,>=7.1.0 in /usr/local/lib/python3.10/dist-packages (from streamlit) (10.4.0)\n",
            "Requirement already satisfied: protobuf<6,>=3.20 in /usr/local/lib/python3.10/dist-packages (from streamlit) (3.20.3)\n",
            "Requirement already satisfied: pyarrow>=7.0 in /usr/local/lib/python3.10/dist-packages (from streamlit) (16.1.0)\n",
            "Requirement already satisfied: requests<3,>=2.27 in /usr/local/lib/python3.10/dist-packages (from streamlit) (2.32.3)\n",
            "Requirement already satisfied: rich<14,>=10.14.0 in /usr/local/lib/python3.10/dist-packages (from streamlit) (13.9.2)\n",
            "Requirement already satisfied: tenacity<10,>=8.1.0 in /usr/local/lib/python3.10/dist-packages (from streamlit) (9.0.0)\n",
            "Requirement already satisfied: toml<2,>=0.10.1 in /usr/local/lib/python3.10/dist-packages (from streamlit) (0.10.2)\n",
            "Requirement already satisfied: typing-extensions<5,>=4.3.0 in /usr/local/lib/python3.10/dist-packages (from streamlit) (4.12.2)\n",
            "Collecting gitpython!=3.1.19,<4,>=3.0.7 (from streamlit)\n",
            "  Downloading GitPython-3.1.43-py3-none-any.whl.metadata (13 kB)\n",
            "Collecting pydeck<1,>=0.8.0b4 (from streamlit)\n",
            "  Downloading pydeck-0.9.1-py2.py3-none-any.whl.metadata (4.1 kB)\n",
            "Requirement already satisfied: tornado<7,>=6.0.3 in /usr/local/lib/python3.10/dist-packages (from streamlit) (6.3.3)\n",
            "Collecting watchdog<6,>=2.1.5 (from streamlit)\n",
            "  Downloading watchdog-5.0.3-py3-none-manylinux2014_x86_64.whl.metadata (41 kB)\n",
            "\u001b[2K     \u001b[90m━━━━━━━━━━━━━━━━━━━━━━━━━━━━━━━━━━━━━━━━\u001b[0m \u001b[32m41.9/41.9 kB\u001b[0m \u001b[31m2.3 MB/s\u001b[0m eta \u001b[36m0:00:00\u001b[0m\n",
            "\u001b[?25hRequirement already satisfied: entrypoints in /usr/local/lib/python3.10/dist-packages (from altair<6,>=4.0->streamlit) (0.4)\n",
            "Requirement already satisfied: jinja2 in /usr/local/lib/python3.10/dist-packages (from altair<6,>=4.0->streamlit) (3.1.4)\n",
            "Requirement already satisfied: jsonschema>=3.0 in /usr/local/lib/python3.10/dist-packages (from altair<6,>=4.0->streamlit) (4.23.0)\n",
            "Requirement already satisfied: toolz in /usr/local/lib/python3.10/dist-packages (from altair<6,>=4.0->streamlit) (0.12.1)\n",
            "Collecting gitdb<5,>=4.0.1 (from gitpython!=3.1.19,<4,>=3.0.7->streamlit)\n",
            "  Downloading gitdb-4.0.11-py3-none-any.whl.metadata (1.2 kB)\n",
            "Requirement already satisfied: python-dateutil>=2.8.2 in /usr/local/lib/python3.10/dist-packages (from pandas<3,>=1.4.0->streamlit) (2.8.2)\n",
            "Requirement already satisfied: pytz>=2020.1 in /usr/local/lib/python3.10/dist-packages (from pandas<3,>=1.4.0->streamlit) (2024.2)\n",
            "Requirement already satisfied: tzdata>=2022.7 in /usr/local/lib/python3.10/dist-packages (from pandas<3,>=1.4.0->streamlit) (2024.2)\n",
            "Requirement already satisfied: charset-normalizer<4,>=2 in /usr/local/lib/python3.10/dist-packages (from requests<3,>=2.27->streamlit) (3.4.0)\n",
            "Requirement already satisfied: idna<4,>=2.5 in /usr/local/lib/python3.10/dist-packages (from requests<3,>=2.27->streamlit) (3.10)\n",
            "Requirement already satisfied: urllib3<3,>=1.21.1 in /usr/local/lib/python3.10/dist-packages (from requests<3,>=2.27->streamlit) (2.2.3)\n",
            "Requirement already satisfied: certifi>=2017.4.17 in /usr/local/lib/python3.10/dist-packages (from requests<3,>=2.27->streamlit) (2024.8.30)\n",
            "Requirement already satisfied: markdown-it-py>=2.2.0 in /usr/local/lib/python3.10/dist-packages (from rich<14,>=10.14.0->streamlit) (3.0.0)\n",
            "Requirement already satisfied: pygments<3.0.0,>=2.13.0 in /usr/local/lib/python3.10/dist-packages (from rich<14,>=10.14.0->streamlit) (2.18.0)\n",
            "Collecting smmap<6,>=3.0.1 (from gitdb<5,>=4.0.1->gitpython!=3.1.19,<4,>=3.0.7->streamlit)\n",
            "  Downloading smmap-5.0.1-py3-none-any.whl.metadata (4.3 kB)\n",
            "Requirement already satisfied: MarkupSafe>=2.0 in /usr/local/lib/python3.10/dist-packages (from jinja2->altair<6,>=4.0->streamlit) (3.0.1)\n",
            "Requirement already satisfied: attrs>=22.2.0 in /usr/local/lib/python3.10/dist-packages (from jsonschema>=3.0->altair<6,>=4.0->streamlit) (24.2.0)\n",
            "Requirement already satisfied: jsonschema-specifications>=2023.03.6 in /usr/local/lib/python3.10/dist-packages (from jsonschema>=3.0->altair<6,>=4.0->streamlit) (2024.10.1)\n",
            "Requirement already satisfied: referencing>=0.28.4 in /usr/local/lib/python3.10/dist-packages (from jsonschema>=3.0->altair<6,>=4.0->streamlit) (0.35.1)\n",
            "Requirement already satisfied: rpds-py>=0.7.1 in /usr/local/lib/python3.10/dist-packages (from jsonschema>=3.0->altair<6,>=4.0->streamlit) (0.20.0)\n",
            "Requirement already satisfied: mdurl~=0.1 in /usr/local/lib/python3.10/dist-packages (from markdown-it-py>=2.2.0->rich<14,>=10.14.0->streamlit) (0.1.2)\n",
            "Requirement already satisfied: six>=1.5 in /usr/local/lib/python3.10/dist-packages (from python-dateutil>=2.8.2->pandas<3,>=1.4.0->streamlit) (1.16.0)\n",
            "Downloading streamlit-1.39.0-py2.py3-none-any.whl (8.7 MB)\n",
            "\u001b[2K   \u001b[90m━━━━━━━━━━━━━━━━━━━━━━━━━━━━━━━━━━━━━━━━\u001b[0m \u001b[32m8.7/8.7 MB\u001b[0m \u001b[31m52.1 MB/s\u001b[0m eta \u001b[36m0:00:00\u001b[0m\n",
            "\u001b[?25hDownloading GitPython-3.1.43-py3-none-any.whl (207 kB)\n",
            "\u001b[2K   \u001b[90m━━━━━━━━━━━━━━━━━━━━━━━━━━━━━━━━━━━━━━━━\u001b[0m \u001b[32m207.3/207.3 kB\u001b[0m \u001b[31m14.6 MB/s\u001b[0m eta \u001b[36m0:00:00\u001b[0m\n",
            "\u001b[?25hDownloading pydeck-0.9.1-py2.py3-none-any.whl (6.9 MB)\n",
            "\u001b[2K   \u001b[90m━━━━━━━━━━━━━━━━━━━━━━━━━━━━━━━━━━━━━━━━\u001b[0m \u001b[32m6.9/6.9 MB\u001b[0m \u001b[31m47.7 MB/s\u001b[0m eta \u001b[36m0:00:00\u001b[0m\n",
            "\u001b[?25hDownloading watchdog-5.0.3-py3-none-manylinux2014_x86_64.whl (79 kB)\n",
            "\u001b[2K   \u001b[90m━━━━━━━━━━━━━━━━━━━━━━━━━━━━━━━━━━━━━━━━\u001b[0m \u001b[32m79.3/79.3 kB\u001b[0m \u001b[31m6.4 MB/s\u001b[0m eta \u001b[36m0:00:00\u001b[0m\n",
            "\u001b[?25hDownloading gitdb-4.0.11-py3-none-any.whl (62 kB)\n",
            "\u001b[2K   \u001b[90m━━━━━━━━━━━━━━━━━━━━━━━━━━━━━━━━━━━━━━━━\u001b[0m \u001b[32m62.7/62.7 kB\u001b[0m \u001b[31m3.9 MB/s\u001b[0m eta \u001b[36m0:00:00\u001b[0m\n",
            "\u001b[?25hDownloading smmap-5.0.1-py3-none-any.whl (24 kB)\n",
            "Installing collected packages: watchdog, smmap, pydeck, gitdb, gitpython, streamlit\n",
            "Successfully installed gitdb-4.0.11 gitpython-3.1.43 pydeck-0.9.1 smmap-5.0.1 streamlit-1.39.0 watchdog-5.0.3\n"
          ]
        }
      ],
      "source": [
        "pip install streamlit"
      ]
    },
    {
      "cell_type": "code",
      "source": [
        "%%writefile image_enhancement.py\n",
        "import numpy as np\n",
        "import streamlit as st\n",
        "import cv2\n",
        "from tensorflow.keras.models import load_model\n",
        "import tensorflow as tf\n",
        "\n",
        "# Define the SSIM-based loss function\n",
        "def ssim_loss(y_true, y_pred):\n",
        "    return 1 - tf.reduce_mean(tf.image.ssim(y_true, y_pred, max_val=1.0))\n",
        "\n",
        "# Load the models\n",
        "enhanced_autoencoder_v3 = load_model('/content/drive/MyDrive/enhanced_autoencoder_v3.h5', custom_objects={'ssim_loss': ssim_loss})\n",
        "enhanced_autoencoder_v4 = load_model('/content/drive/MyDrive/enhanced_autoencoder_v4.h5', custom_objects={'ssim_loss': ssim_loss})\n",
        "\n",
        "def preprocess_image(image):\n",
        "    # Convert to grayscale and resize\n",
        "    image = cv2.cvtColor(image, cv2.COLOR_BGR2GRAY)\n",
        "    image = cv2.resize(image, (128, 128))\n",
        "    image = image.astype('float32') / 255.0  # Normalize to [0, 1]\n",
        "    return image.reshape(1, 128, 128, 1)  # Reshape for the model\n",
        "\n",
        "def postprocess_image(image):\n",
        "    # Rescale and convert to 8-bit\n",
        "    image_8bit = cv2.convertScaleAbs(image[0], alpha=(255.0 / image.max()))\n",
        "    return image_8bit\n",
        "\n",
        "def apply_post_processing(enhanced_image):\n",
        "    # CLAHE\n",
        "    clahe = cv2.createCLAHE(clipLimit=2.0, tileGridSize=(8, 8))\n",
        "    enhanced_image = clahe.apply(enhanced_image)\n",
        "\n",
        "    # Unsharp Masking\n",
        "    blurred = cv2.GaussianBlur(enhanced_image, (9, 9), 10.0)\n",
        "    sharp_image = cv2.addWeighted(enhanced_image, 1.5, blurred, -0.5, 0)\n",
        "\n",
        "    # Denoising\n",
        "    denoised_image = cv2.fastNlMeansDenoising(sharp_image, None, 30, 7, 21)\n",
        "\n",
        "    # Smoothing\n",
        "    smoothed_image = cv2.GaussianBlur(denoised_image, (3, 3), 0)\n",
        "\n",
        "    return enhanced_image, sharp_image, denoised_image, smoothed_image\n",
        "\n",
        "# Streamlit UI\n",
        "st.set_page_config(page_title=\"Image Enhancement\", layout=\"wide\")\n",
        "st.title(\"Image Enhancement using Autoencoders\")\n",
        "st.write(\"Upload an image to enhance it using two different autoencoder models.\")\n",
        "\n",
        "# File uploader with custom styling\n",
        "uploaded_file = st.file_uploader(\"Choose an image...\", type=[\"jpg\", \"jpeg\", \"png\"], label_visibility=\"collapsed\")\n",
        "\n",
        "if uploaded_file is not None:\n",
        "    # Read and display the uploaded image\n",
        "    image = cv2.imdecode(np.frombuffer(uploaded_file.read(), np.uint8), cv2.IMREAD_COLOR)\n",
        "    original_image = cv2.cvtColor(image, cv2.COLOR_BGR2GRAY)  # Convert to grayscale for processing\n",
        "    st.image(original_image, caption=\"Original Image\", use_column_width=300, channels=\"GRAY\")\n",
        "\n",
        "    # Preprocess the image\n",
        "    preprocessed_image = preprocess_image(image)\n",
        "\n",
        "    # Process the image using both versions\n",
        "    enhanced_image_v3 = enhanced_autoencoder_v3.predict(preprocessed_image)\n",
        "    enhanced_image_v4 = enhanced_autoencoder_v4.predict(preprocessed_image)\n",
        "\n",
        "    # Post-process images\n",
        "    enhanced_image_v3_post = postprocess_image(enhanced_image_v3)\n",
        "    enhanced_image_v4_post = postprocess_image(enhanced_image_v4)\n",
        "\n",
        "    # Apply additional processing\n",
        "    enhanced_image_v3_final, sharp_v3, denoised_v3, smoothed_v3 = apply_post_processing(enhanced_image_v3_post)\n",
        "    enhanced_image_v4_final, sharp_v4, denoised_v4, smoothed_v4 = apply_post_processing(enhanced_image_v4_post)\n",
        "\n",
        "    # Display enhanced images in a side-by-side format\n",
        "    st.subheader(\"Enhanced Image - Version 3\")\n",
        "    col1, col2, col3, col4 = st.columns(4)\n",
        "\n",
        "    with col1:\n",
        "        st.image(enhanced_image_v3_final, caption=\"CLAHE Enhanced\", use_column_width=True, channels=\"GRAY\")\n",
        "\n",
        "    with col2:\n",
        "        st.image(sharp_v3, caption=\"Unsharp Masking\", use_column_width=True, channels=\"GRAY\")\n",
        "\n",
        "    with col3:\n",
        "        st.image(denoised_v3, caption=\"Denoised\", use_column_width=True, channels=\"GRAY\")\n",
        "\n",
        "    with col4:\n",
        "        st.image(smoothed_v3, caption=\"Smoothed\", use_column_width=True, channels=\"GRAY\")\n",
        "\n",
        "    # New row for Version 4 images\n",
        "    st.subheader(\"Enhanced Image - Version 4\")\n",
        "    col5, col6, col7, col8 = st.columns(4)\n",
        "\n",
        "    with col5:\n",
        "        st.image(enhanced_image_v4_final, caption=\"CLAHE Enhanced\", use_column_width=True, channels=\"GRAY\")\n",
        "\n",
        "    with col6:\n",
        "        st.image(sharp_v4, caption=\"Unsharp Masking\", use_column_width=True, channels=\"GRAY\")\n",
        "\n",
        "    with col7:\n",
        "        st.image(denoised_v4, caption=\"Denoised\", use_column_width=True, channels=\"GRAY\")\n",
        "\n",
        "    with col8:\n",
        "        st.image(smoothed_v4, caption=\"Smoothed\", use_column_width=True, channels=\"GRAY\")\n",
        "\n"
      ],
      "metadata": {
        "colab": {
          "base_uri": "https://localhost:8080/"
        },
        "id": "ru0BaVPn8gt7",
        "outputId": "de8234ae-3f56-4db5-ea12-da7c8d86834c"
      },
      "execution_count": 2,
      "outputs": [
        {
          "output_type": "stream",
          "name": "stdout",
          "text": [
            "Writing image_enhancement.py\n"
          ]
        }
      ]
    },
    {
      "cell_type": "code",
      "source": [
        "! pip install streamlit -qy\n",
        "!wget -q -O - ipv4.icanhazip.com\n",
        "! streamlit run image_enhancement.py & npx localtunnel --port 8501"
      ],
      "metadata": {
        "colab": {
          "base_uri": "https://localhost:8080/"
        },
        "id": "9z3ZWvDuM9CE",
        "outputId": "7c11ad29-a0a4-4ad3-cdfe-d16192f10b0a"
      },
      "execution_count": 3,
      "outputs": [
        {
          "output_type": "stream",
          "name": "stdout",
          "text": [
            "\n",
            "Usage:   \n",
            "  pip3 install [options] <requirement specifier> [package-index-options] ...\n",
            "  pip3 install [options] -r <requirements file> [package-index-options] ...\n",
            "  pip3 install [options] [-e] <vcs project url> ...\n",
            "  pip3 install [options] [-e] <local project path> ...\n",
            "  pip3 install [options] <archive url/path> ...\n",
            "\n",
            "no such option: -y\n",
            "34.85.190.122\n",
            "/bin/bash: line 1: streamlit: command not found\n",
            "your url is: https://heavy-radios-post.loca.lt\n",
            "^C\n"
          ]
        }
      ]
    }
  ]
}